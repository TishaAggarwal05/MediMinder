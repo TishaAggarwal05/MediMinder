{
 "cells": [
  {
   "cell_type": "code",
   "execution_count": null,
   "metadata": {
    "colab_type": "code",
    "trusted": true
   },
   "outputs": [],
   "source": [
    "# !pip install -U transformers"
   ]
  },
  {
   "cell_type": "code",
   "execution_count": null,
   "metadata": {
    "trusted": true
   },
   "outputs": [],
   "source": [
    "# pip install --upgrade huggingface_hub"
   ]
  },
  {
   "cell_type": "code",
   "execution_count": null,
   "metadata": {
    "execution": {
     "iopub.execute_input": "2025-07-18T10:13:36.921154Z",
     "iopub.status.busy": "2025-07-18T10:13:36.920545Z",
     "iopub.status.idle": "2025-07-18T10:13:37.108082Z",
     "shell.execute_reply": "2025-07-18T10:13:37.107297Z",
     "shell.execute_reply.started": "2025-07-18T10:13:36.921127Z"
    },
    "trusted": true
   },
   "outputs": [],
   "source": [
    "# enter your own ngrok domain + auth token + hugging face \"meta-llama/Meta-Llama-3-8B-Instruct\" auth token\n",
    "\n",
    "\n",
    "\n",
    "\n",
    "# from kaggle_secrets import UserSecretsClient\n",
    "# user_secrets = UserSecretsClient()\n",
    "# secret_value_domain = user_secrets.get_secret(\"domain\")\n",
    "# secret_value = user_secrets.get_secret(\"medhelp\")\n",
    "# secret_value_ngrok = user_secrets.get_secret(\"Ngrokk\")\n"
   ]
  },
  {
   "cell_type": "code",
   "execution_count": 3,
   "metadata": {
    "execution": {
     "iopub.execute_input": "2025-07-18T10:13:41.216766Z",
     "iopub.status.busy": "2025-07-18T10:13:41.216056Z",
     "iopub.status.idle": "2025-07-18T10:13:41.615747Z",
     "shell.execute_reply": "2025-07-18T10:13:41.615175Z",
     "shell.execute_reply.started": "2025-07-18T10:13:41.216744Z"
    },
    "trusted": true
   },
   "outputs": [],
   "source": [
    "from huggingface_hub import login\n",
    "login(token=secret_value)"
   ]
  },
  {
   "cell_type": "code",
   "execution_count": null,
   "metadata": {
    "trusted": true
   },
   "outputs": [],
   "source": [
    "# from huggingface_hub import whoami\n",
    "\n",
    "# user_info = whoami()\n",
    "# print(\"Logged in as:\", user_info[\"name\"])"
   ]
  },
  {
   "cell_type": "code",
   "execution_count": null,
   "metadata": {
    "execution": {
     "iopub.execute_input": "2025-07-18T10:13:45.640989Z",
     "iopub.status.busy": "2025-07-18T10:13:45.640408Z",
     "iopub.status.idle": "2025-07-18T10:14:43.783670Z",
     "shell.execute_reply": "2025-07-18T10:14:43.783043Z",
     "shell.execute_reply.started": "2025-07-18T10:13:45.640942Z"
    },
    "trusted": true
   },
   "outputs": [
    {
     "name": "stderr",
     "output_type": "stream",
     "text": [
      "2025-07-18 10:13:49.968105: E external/local_xla/xla/stream_executor/cuda/cuda_fft.cc:477] Unable to register cuFFT factory: Attempting to register factory for plugin cuFFT when one has already been registered\n",
      "WARNING: All log messages before absl::InitializeLog() is called are written to STDERR\n",
      "E0000 00:00:1752833629.995000     197 cuda_dnn.cc:8310] Unable to register cuDNN factory: Attempting to register factory for plugin cuDNN when one has already been registered\n",
      "E0000 00:00:1752833630.003132     197 cuda_blas.cc:1418] Unable to register cuBLAS factory: Attempting to register factory for plugin cuBLAS when one has already been registered\n"
     ]
    },
    {
     "data": {
      "application/vnd.jupyter.widget-view+json": {
       "model_id": "44b5393edaf54784aa0fa7120d35bff4",
       "version_major": 2,
       "version_minor": 0
      },
      "text/plain": [
       "Loading checkpoint shards:   0%|          | 0/4 [00:00<?, ?it/s]"
      ]
     },
     "metadata": {},
     "output_type": "display_data"
    },
    {
     "name": "stderr",
     "output_type": "stream",
     "text": [
      "Device set to use cuda:0\n"
     ]
    }
   ],
   "source": [
    "import transformers\n",
    "import torch\n",
    "\n",
    "#  \"meta-llama/Meta-Llama-3-8B-Instruct\"\n",
    "\n",
    "\n",
    "\n",
    "pipeline = transformers.pipeline(\n",
    "    \"text-generation\",\n",
    "    model=\"meta-llama/Meta-Llama-3-8B-Instruct\",\n",
    "    model_kwargs={\"torch_dtype\": torch.bfloat16},\n",
    "    device_map=\"auto\",\n",
    ")\n"
   ]
  },
  {
   "cell_type": "code",
   "execution_count": 5,
   "metadata": {
    "execution": {
     "iopub.execute_input": "2025-07-18T10:15:57.161610Z",
     "iopub.status.busy": "2025-07-18T10:15:57.160486Z",
     "iopub.status.idle": "2025-07-18T10:15:57.165998Z",
     "shell.execute_reply": "2025-07-18T10:15:57.165170Z",
     "shell.execute_reply.started": "2025-07-18T10:15:57.161583Z"
    },
    "trusted": true
   },
   "outputs": [],
   "source": [
    "chat_history = [\n",
    "    {\n",
    "        \"role\": \"system\",\n",
    "        \"content\": \"\"\"\n",
    "You are a reliable, friendly healthcare assistant. You must ONLY provide general health-related information and tips — no diagnoses, no emergency advice, and no prescription guidance. Your role is to assist users safely and clearly, using their personal health data, and reply **strictly in JSON format**.\n",
    "\n",
    "You are provided a JSON user profile with:\n",
    "- age\n",
    "- gender\n",
    "- medical conditions\n",
    "- medications\n",
    "\n",
    "Instructions for every response:\n",
    "1. Be **personalized**: Tailor suggestions based on age, gender, existing conditions, and medications.\n",
    "2. Be **brief** and **clear**: Use simple, accurate language in under 100 words.\n",
    "3. Be **safe**: Never suggest a diagnosis or treatment plan. If the query implies a need for diagnosis, add: _\"It’s best to consult a doctor for proper medical evaluation.\"_\n",
    "4. Be **polite**: If the query is off-topic or unclear, reply with: _\"Please ask a clear health-related question so I can assist you better.\"_\n",
    "5. Be **context-aware**: Don’t repeat tips already given. Avoid contradictions with their known health profile.\n",
    "6. Always maintain a **warm, supportive** tone.\n",
    "EXAMPLE RESPONSE:\n",
    "{\n",
    "  \"reply\": \"After a walk, a light snack with protein and fiber—like a boiled egg with whole-grain toast—can help. Since you have diabetes, avoid sugary snacks. Also, stay hydrated!\"\n",
    "}\n",
    "\n",
    "Reply only in a JSON object:\n",
    "{\n",
    "  \"reply\": \"your response text here\"\n",
    "}\n",
    "\"\"\"\n",
    "    }\n",
    "]\n"
   ]
  },
  {
   "cell_type": "markdown",
   "metadata": {},
   "source": [
    "Since Kaggle Notebooks don’t support web servers directly via Flask (like app.run()), we’ll use a trick: run Flask using ngrok"
   ]
  },
  {
   "cell_type": "code",
   "execution_count": 8,
   "metadata": {
    "execution": {
     "iopub.execute_input": "2025-07-18T09:59:51.901835Z",
     "iopub.status.busy": "2025-07-18T09:59:51.901554Z",
     "iopub.status.idle": "2025-07-18T09:59:59.182762Z",
     "shell.execute_reply": "2025-07-18T09:59:59.182024Z",
     "shell.execute_reply.started": "2025-07-18T09:59:51.901813Z"
    },
    "trusted": true
   },
   "outputs": [
    {
     "name": "stdout",
     "output_type": "stream",
     "text": [
      "Requirement already satisfied: flask in /usr/local/lib/python3.11/dist-packages (3.1.1)\n",
      "Requirement already satisfied: blinker>=1.9.0 in /usr/local/lib/python3.11/dist-packages (from flask) (1.9.0)\n",
      "Requirement already satisfied: click>=8.1.3 in /usr/local/lib/python3.11/dist-packages (from flask) (8.2.1)\n",
      "Requirement already satisfied: itsdangerous>=2.2.0 in /usr/local/lib/python3.11/dist-packages (from flask) (2.2.0)\n",
      "Requirement already satisfied: jinja2>=3.1.2 in /usr/local/lib/python3.11/dist-packages (from flask) (3.1.6)\n",
      "Requirement already satisfied: markupsafe>=2.1.1 in /usr/local/lib/python3.11/dist-packages (from flask) (3.0.2)\n",
      "Requirement already satisfied: werkzeug>=3.1.0 in /usr/local/lib/python3.11/dist-packages (from flask) (3.1.3)\n",
      "Collecting pyngrok\n",
      "  Downloading pyngrok-7.2.12-py3-none-any.whl.metadata (9.4 kB)\n",
      "Requirement already satisfied: PyYAML>=5.1 in /usr/local/lib/python3.11/dist-packages (from pyngrok) (6.0.2)\n",
      "Downloading pyngrok-7.2.12-py3-none-any.whl (26 kB)\n",
      "Installing collected packages: pyngrok\n",
      "Successfully installed pyngrok-7.2.12\n"
     ]
    }
   ],
   "source": [
    "!pip install flask\n",
    "!pip install pyngrok"
   ]
  },
  {
   "cell_type": "code",
   "execution_count": 12,
   "metadata": {
    "execution": {
     "iopub.execute_input": "2025-07-18T10:07:51.962473Z",
     "iopub.status.busy": "2025-07-18T10:07:51.962186Z",
     "iopub.status.idle": "2025-07-18T10:07:55.245480Z",
     "shell.execute_reply": "2025-07-18T10:07:55.244524Z",
     "shell.execute_reply.started": "2025-07-18T10:07:51.962455Z"
    },
    "trusted": true
   },
   "outputs": [
    {
     "name": "stderr",
     "output_type": "stream",
     "text": [
      "huggingface/tokenizers: The current process just got forked, after parallelism has already been used. Disabling parallelism to avoid deadlocks...\n",
      "To disable this warning, you can either:\n",
      "\t- Avoid using `tokenizers` before the fork if possible\n",
      "\t- Explicitly set the environment variable TOKENIZERS_PARALLELISM=(true | false)\n"
     ]
    },
    {
     "name": "stdout",
     "output_type": "stream",
     "text": [
      "Collecting flask-cors\n",
      "  Downloading flask_cors-6.0.1-py3-none-any.whl.metadata (5.3 kB)\n",
      "Requirement already satisfied: flask>=0.9 in /usr/local/lib/python3.11/dist-packages (from flask-cors) (3.1.1)\n",
      "Requirement already satisfied: Werkzeug>=0.7 in /usr/local/lib/python3.11/dist-packages (from flask-cors) (3.1.3)\n",
      "Requirement already satisfied: blinker>=1.9.0 in /usr/local/lib/python3.11/dist-packages (from flask>=0.9->flask-cors) (1.9.0)\n",
      "Requirement already satisfied: click>=8.1.3 in /usr/local/lib/python3.11/dist-packages (from flask>=0.9->flask-cors) (8.2.1)\n",
      "Requirement already satisfied: itsdangerous>=2.2.0 in /usr/local/lib/python3.11/dist-packages (from flask>=0.9->flask-cors) (2.2.0)\n",
      "Requirement already satisfied: jinja2>=3.1.2 in /usr/local/lib/python3.11/dist-packages (from flask>=0.9->flask-cors) (3.1.6)\n",
      "Requirement already satisfied: markupsafe>=2.1.1 in /usr/local/lib/python3.11/dist-packages (from flask>=0.9->flask-cors) (3.0.2)\n",
      "Downloading flask_cors-6.0.1-py3-none-any.whl (13 kB)\n",
      "Installing collected packages: flask-cors\n",
      "Successfully installed flask-cors-6.0.1\n",
      "Note: you may need to restart the kernel to use updated packages.\n"
     ]
    },
    {
     "name": "stderr",
     "output_type": "stream",
     "text": [
      "Setting `pad_token_id` to `eos_token_id`:128009 for open-end generation.\n"
     ]
    },
    {
     "name": "stdout",
     "output_type": "stream",
     "text": [
      "{\n",
      "  \"reply\": \"Yes, you can go for a walk after taking your medicines! Since you have diabetes and hypertension, it's essential to monitor your blood sugar and blood pressure levels during and after the walk. Take your usual medications as prescribed and stay hydrated.\"\n",
      "}\n"
     ]
    }
   ],
   "source": [
    "pip install flask-cors"
   ]
  },
  {
   "cell_type": "code",
   "execution_count": 6,
   "metadata": {
    "execution": {
     "iopub.execute_input": "2025-07-18T10:16:03.341059Z",
     "iopub.status.busy": "2025-07-18T10:16:03.340731Z",
     "iopub.status.idle": "2025-07-18T10:16:05.668631Z",
     "shell.execute_reply": "2025-07-18T10:16:05.668024Z",
     "shell.execute_reply.started": "2025-07-18T10:16:03.341035Z"
    },
    "trusted": true
   },
   "outputs": [
    {
     "name": "stdout",
     "output_type": "stream",
     "text": [
      " * Serving Flask app '__main__'\n",
      " * Debug mode: off\n"
     ]
    },
    {
     "name": "stderr",
     "output_type": "stream",
     "text": [
      "Address already in use\n",
      "Port 5000 is in use by another program. Either identify and stop that program, or start the server with a different port.\n"
     ]
    },
    {
     "name": "stdout",
     "output_type": "stream",
     "text": [
      "Static Public URL: NgrokTunnel: \"https://hamster-stirred-bluejay.ngrok-free.app\" -> \"http://localhost:5000\"\n"
     ]
    },
    {
     "name": "stderr",
     "output_type": "stream",
     "text": [
      "Setting `pad_token_id` to `eos_token_id`:128009 for open-end generation.\n"
     ]
    },
    {
     "name": "stdout",
     "output_type": "stream",
     "text": [
      "{\n",
      "  \"reply\": \"As a person with diabetes, it's essential to monitor your carbohydrate intake. Sweet corn is relatively high in carbs, so consider choosing a serving size of about 1/2 cup cooked. Also, pair it with a healthy protein source like beans or lean meat to balance your meal.\"\n",
      "}\n"
     ]
    },
    {
     "name": "stderr",
     "output_type": "stream",
     "text": [
      "Setting `pad_token_id` to `eos_token_id`:128009 for open-end generation.\n"
     ]
    },
    {
     "name": "stdout",
     "output_type": "stream",
     "text": [
      "{\n",
      "  \"reply\": \"As a person taking Metformin for diabetes, common side effects may include stomach upset, diarrhea, or nausea. It's essential to discuss any concerns with your doctor. Also, be aware that taking multiple medications, including Paracetamol, Dolo, and Rantacid, may lead to interactions. Consult your doctor or pharmacist to ensure safe usage and avoid any potential adverse effects.\"\n",
      "}\n"
     ]
    },
    {
     "name": "stderr",
     "output_type": "stream",
     "text": [
      "Setting `pad_token_id` to `eos_token_id`:128009 for open-end generation.\n"
     ]
    },
    {
     "name": "stdout",
     "output_type": "stream",
     "text": [
      "{\n",
      "  \"reply\": \"As a 46-year-old woman with diabetes, it's wonderful that you're considering yoga for overall health! Certain yoga styles and poses can help manage blood sugar levels and improve insulin sensitivity. I recommend trying gentle flows like Hatha, Vinyasa, or Restorative yoga. Focus on poses that stretch the legs, hips, and back, such as downward-facing dog, pigeon pose, and seated forward bend. Be sure to consult with your doctor before starting any new exercise routine, especially with your condition.\"\n",
      "}\n"
     ]
    },
    {
     "name": "stderr",
     "output_type": "stream",
     "text": [
      "Setting `pad_token_id` to `eos_token_id`:128009 for open-end generation.\n"
     ]
    },
    {
     "name": "stdout",
     "output_type": "stream",
     "text": [
      "{\n",
      "  \"reply\": \"As a person with diabetes, here are some health tips tailored to your needs: Stay hydrated by drinking at least 8 cups of water a day. Monitor your blood sugar levels regularly and keep a record. Wear comfortable shoes with good arch support to reduce the risk of foot ulcers. Eat a balanced diet with plenty of fruits, vegetables, and whole grains. Consider incorporating omega-3 rich foods like fatty fish, flaxseeds, or walnuts to support heart health. And don't forget to schedule regular check-ups with your doctor to track your progress!\"\n",
      "}\n"
     ]
    },
    {
     "name": "stderr",
     "output_type": "stream",
     "text": [
      "Setting `pad_token_id` to `eos_token_id`:128009 for open-end generation.\n"
     ]
    },
    {
     "name": "stdout",
     "output_type": "stream",
     "text": [
      "{\n",
      "  \"reply\": \"As a person with diabetes, here are some general health tips: Get at least 7-8 hours of sleep each night to help regulate your blood sugar levels. Consider incorporating stress-reducing activities like meditation, deep breathing, or yoga to manage stress. Wear sunscreen with at least SPF 30 and reapply every 2 hours to protect your skin from the sun. Avoid sharing personal care items, like razors or lip balm, to reduce the risk of infection. And remember to schedule regular health check-ups to stay on top of your health!\"\n",
      "}\n"
     ]
    },
    {
     "name": "stderr",
     "output_type": "stream",
     "text": [
      "Setting `pad_token_id` to `eos_token_id`:128009 for open-end generation.\n"
     ]
    },
    {
     "name": "stdout",
     "output_type": "stream",
     "text": [
      "{\n",
      "  \"reply\": \"As a person with diabetes, it's generally recommended to monitor your carbohydrate intake. Bananas are a good source of natural sugars, and curd contains protein and calcium. When combined, they can provide a balanced snack. However, consider the portion size and choose a ripe banana to reduce the glycemic index. Also, be mindful of your overall carbohydrate intake and adjust your medication or meal plan as advised by your doctor.\"\n",
      "}\n"
     ]
    },
    {
     "name": "stderr",
     "output_type": "stream",
     "text": [
      "Setting `pad_token_id` to `eos_token_id`:128009 for open-end generation.\n"
     ]
    },
    {
     "name": "stdout",
     "output_type": "stream",
     "text": [
      "{\n",
      "  \"reply\": \"As a person with diabetes, it's essential to focus on balanced and nutrient-dense meals. For lunch, consider a meal that includes a source of protein, healthy fats, and complex carbohydrates. Some examples might include: grilled chicken or fish with brown rice and steamed vegetables, or a whole-grain pita with hummus, avocado, and mixed greens. Avoid or limit sugary drinks, processed meats, and foods high in saturated fats. Also, be mindful of portion sizes and adjust your medication or meal plan as advised by your doctor.\"\n",
      "}\n"
     ]
    }
   ],
   "source": [
    "\n",
    "from flask_cors import CORS\n",
    "\n",
    "\n",
    "from flask import Flask, request, jsonify\n",
    "from pyngrok import ngrok\n",
    "import threading\n",
    "import time\n",
    "import json\n",
    "# Flask app\n",
    "app = Flask(__name__)\n",
    "CORS(app)\n",
    "@app.route(\"/\")\n",
    "def index():\n",
    "    return \"Your health assistant is running on a static .app domain!\"\n",
    "\n",
    "@app.route(\"/healthbot\", methods=[\"POST\"])\n",
    "def healthbot():\n",
    "    data = request.get_json()\n",
    "    query = data.get(\"query\")\n",
    "\n",
    "    user_age = query[\"age\"]\n",
    "    user_gender = query[\"gender\"]\n",
    "    user_diseases = query[\"diseases\"]\n",
    "    user_medication = query[\"medication\"]\n",
    "    user_input = query[\"input\"]\n",
    "\n",
    "    user_dict= dict(age=user_age,gender=user_gender,disease=user_diseases,medications=user_medication,input=user_input)\n",
    "    json_string = json.dumps(user_dict)\n",
    "    \n",
    "    chat_history.append({\"role\": \"user\", \"content\": user_dict})\n",
    "    # Define terminators\n",
    "    terminators = [\n",
    "        pipeline.tokenizer.eos_token_id,\n",
    "        pipeline.tokenizer.convert_tokens_to_ids(\"<|eot_id|>\")\n",
    "    ]\n",
    "    \n",
    "    # Get response\n",
    "    outputs = pipeline(\n",
    "        chat_history,\n",
    "        max_new_tokens=256,\n",
    "        eos_token_id=terminators,\n",
    "        do_sample=True,\n",
    "        temperature=0.85,\n",
    "        top_p=0.9,\n",
    "        top_k=40,\n",
    "    )\n",
    "    \n",
    "    # Parse assistant reply\n",
    "    reply = outputs[0][\"generated_text\"][-1][\"content\"]\n",
    "    chat_history.append({\"role\": \"assistant\", \"content\": reply})\n",
    "\n",
    "    print(reply)\n",
    "    return jsonify({\"reply\": reply})\n",
    "\n",
    "def run_flask():\n",
    "    app.run(port=5000)\n",
    "\n",
    "# Start Flask server in background\n",
    "thread = threading.Thread(target=run_flask)\n",
    "thread.daemon = True\n",
    "thread.start()\n",
    "\n",
    "# Give Flask some time to start\n",
    "time.sleep(2)\n",
    "\n",
    "# Now start ngrok (after Flask is running)\n",
    "ngrok.set_auth_token(secret_value_ngrok)\n",
    "custom_domain = secret_value_domain  # Your .app domain\n",
    "\n",
    "public_url = ngrok.connect(\n",
    "    addr=5000,\n",
    "    domain=custom_domain\n",
    ")\n",
    "\n",
    "print(\"Static Public URL:\", public_url)\n"
   ]
  },
  {
   "cell_type": "code",
   "execution_count": null,
   "metadata": {
    "trusted": true
   },
   "outputs": [],
   "source": [
    "# import requests\n",
    "# print(requests.get(\"https://huggingface.co\").status_code)"
   ]
  }
 ],
 "metadata": {
  "accelerator": "GPU",
  "colab": {
   "gpuType": "T4",
   "machine_shape": "hm"
  },
  "kaggle": {
   "accelerator": "nvidiaTeslaT4",
   "dataSources": [],
   "dockerImageVersionId": 31090,
   "isGpuEnabled": true,
   "isInternetEnabled": true,
   "language": "python",
   "sourceType": "notebook"
  },
  "kernelspec": {
   "display_name": "Python 3",
   "language": "python",
   "name": "python3"
  },
  "language_info": {
   "codemirror_mode": {
    "name": "ipython",
    "version": 3
   },
   "file_extension": ".py",
   "mimetype": "text/x-python",
   "name": "python",
   "nbconvert_exporter": "python",
   "pygments_lexer": "ipython3",
   "version": "3.11.13"
  }
 },
 "nbformat": 4,
 "nbformat_minor": 4
}
